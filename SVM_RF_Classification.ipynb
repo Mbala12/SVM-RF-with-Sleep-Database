{
 "cells": [
  {
   "cell_type": "markdown",
   "id": "6316d71e-c12a-4019-82c8-9c7037120148",
   "metadata": {},
   "source": [
    "# Installation of Required Libraries"
   ]
  },
  {
   "cell_type": "markdown",
   "id": "bb4e2214-4442-4b64-a65c-7c8d4f47384b",
   "metadata": {},
   "source": [
    "##### I will need some libraries for EDF reading, signal processing and machine learning."
   ]
  },
  {
   "cell_type": "code",
   "execution_count": 65,
   "id": "56f7d3ba-5ed1-4d45-b7bc-2e87b63ae75c",
   "metadata": {},
   "outputs": [
    {
     "name": "stdout",
     "output_type": "stream",
     "text": [
      "Defaulting to user installation because normal site-packages is not writeable\n",
      "Requirement already satisfied: mne in c:\\users\\admin\\appdata\\roaming\\python\\python312\\site-packages (1.10.1)\n",
      "Requirement already satisfied: decorator in c:\\users\\admin\\appdata\\roaming\\python\\python312\\site-packages (from mne) (5.2.1)\n",
      "Requirement already satisfied: jinja2 in c:\\users\\admin\\appdata\\roaming\\python\\python312\\site-packages (from mne) (3.1.6)\n",
      "Requirement already satisfied: lazy-loader>=0.3 in c:\\users\\admin\\appdata\\roaming\\python\\python312\\site-packages (from mne) (0.4)\n",
      "Requirement already satisfied: matplotlib>=3.7 in c:\\users\\admin\\appdata\\roaming\\python\\python312\\site-packages (from mne) (3.10.5)\n",
      "Requirement already satisfied: numpy<3,>=1.25 in c:\\users\\admin\\appdata\\roaming\\python\\python312\\site-packages (from mne) (1.26.4)\n",
      "Requirement already satisfied: packaging in c:\\users\\admin\\appdata\\roaming\\python\\python312\\site-packages (from mne) (25.0)\n",
      "Requirement already satisfied: pooch>=1.5 in c:\\users\\admin\\appdata\\roaming\\python\\python312\\site-packages (from mne) (1.8.2)\n",
      "Requirement already satisfied: scipy>=1.11 in c:\\users\\admin\\appdata\\roaming\\python\\python312\\site-packages (from mne) (1.16.1)\n",
      "Requirement already satisfied: tqdm in c:\\users\\admin\\appdata\\roaming\\python\\python312\\site-packages (from mne) (4.67.1)\n",
      "Requirement already satisfied: contourpy>=1.0.1 in c:\\users\\admin\\appdata\\roaming\\python\\python312\\site-packages (from matplotlib>=3.7->mne) (1.3.3)\n",
      "Requirement already satisfied: cycler>=0.10 in c:\\users\\admin\\appdata\\roaming\\python\\python312\\site-packages (from matplotlib>=3.7->mne) (0.12.1)\n",
      "Requirement already satisfied: fonttools>=4.22.0 in c:\\users\\admin\\appdata\\roaming\\python\\python312\\site-packages (from matplotlib>=3.7->mne) (4.59.2)\n",
      "Requirement already satisfied: kiwisolver>=1.3.1 in c:\\users\\admin\\appdata\\roaming\\python\\python312\\site-packages (from matplotlib>=3.7->mne) (1.4.9)\n",
      "Requirement already satisfied: pillow>=8 in c:\\users\\admin\\appdata\\roaming\\python\\python312\\site-packages (from matplotlib>=3.7->mne) (11.3.0)\n",
      "Requirement already satisfied: pyparsing>=2.3.1 in c:\\users\\admin\\appdata\\roaming\\python\\python312\\site-packages (from matplotlib>=3.7->mne) (3.2.3)\n",
      "Requirement already satisfied: python-dateutil>=2.7 in c:\\users\\admin\\appdata\\roaming\\python\\python312\\site-packages (from matplotlib>=3.7->mne) (2.9.0.post0)\n",
      "Requirement already satisfied: platformdirs>=2.5.0 in c:\\users\\admin\\appdata\\roaming\\python\\python312\\site-packages (from pooch>=1.5->mne) (4.4.0)\n",
      "Requirement already satisfied: requests>=2.19.0 in c:\\users\\admin\\appdata\\roaming\\python\\python312\\site-packages (from pooch>=1.5->mne) (2.32.5)\n",
      "Requirement already satisfied: MarkupSafe>=2.0 in c:\\users\\admin\\appdata\\roaming\\python\\python312\\site-packages (from jinja2->mne) (3.0.2)\n",
      "Requirement already satisfied: colorama in c:\\users\\admin\\appdata\\roaming\\python\\python312\\site-packages (from tqdm->mne) (0.4.6)\n",
      "Requirement already satisfied: six>=1.5 in c:\\users\\admin\\appdata\\roaming\\python\\python312\\site-packages (from python-dateutil>=2.7->matplotlib>=3.7->mne) (1.17.0)\n",
      "Requirement already satisfied: charset_normalizer<4,>=2 in c:\\users\\admin\\appdata\\roaming\\python\\python312\\site-packages (from requests>=2.19.0->pooch>=1.5->mne) (3.4.3)\n",
      "Requirement already satisfied: idna<4,>=2.5 in c:\\users\\admin\\appdata\\roaming\\python\\python312\\site-packages (from requests>=2.19.0->pooch>=1.5->mne) (3.10)\n",
      "Requirement already satisfied: urllib3<3,>=1.21.1 in c:\\users\\admin\\appdata\\roaming\\python\\python312\\site-packages (from requests>=2.19.0->pooch>=1.5->mne) (2.5.0)\n",
      "Requirement already satisfied: certifi>=2017.4.17 in c:\\users\\admin\\appdata\\roaming\\python\\python312\\site-packages (from requests>=2.19.0->pooch>=1.5->mne) (2025.8.3)\n",
      "Note: you may need to restart the kernel to use updated packages.\n"
     ]
    }
   ],
   "source": [
    " pip install mne"
   ]
  },
  {
   "cell_type": "code",
   "execution_count": 67,
   "id": "6dc8c8ad-722e-4995-9d61-1fe3706cad22",
   "metadata": {},
   "outputs": [
    {
     "name": "stdout",
     "output_type": "stream",
     "text": [
      "Defaulting to user installation because normal site-packages is not writeable\n",
      "Requirement already satisfied: pyedflib in c:\\users\\admin\\appdata\\roaming\\python\\python312\\site-packages (0.1.42)\n",
      "Requirement already satisfied: numpy>=1.9.1 in c:\\users\\admin\\appdata\\roaming\\python\\python312\\site-packages (from pyedflib) (1.26.4)\n",
      "Note: you may need to restart the kernel to use updated packages.\n"
     ]
    }
   ],
   "source": [
    "pip install pyedflib"
   ]
  },
  {
   "cell_type": "code",
   "execution_count": 69,
   "id": "697c34ed-f379-482a-80a6-3eb16ccf0cd5",
   "metadata": {},
   "outputs": [
    {
     "name": "stdout",
     "output_type": "stream",
     "text": [
      "Defaulting to user installation because normal site-packages is not writeable\n",
      "Requirement already satisfied: numpy in c:\\users\\admin\\appdata\\roaming\\python\\python312\\site-packages (1.26.4)\n",
      "Requirement already satisfied: pandas in c:\\programdata\\anaconda3\\lib\\site-packages (2.2.2)\n",
      "Requirement already satisfied: scikit-learn in c:\\programdata\\anaconda3\\lib\\site-packages (1.5.1)\n",
      "Requirement already satisfied: matplotlib in c:\\users\\admin\\appdata\\roaming\\python\\python312\\site-packages (3.10.5)\n",
      "Requirement already satisfied: python-dateutil>=2.8.2 in c:\\users\\admin\\appdata\\roaming\\python\\python312\\site-packages (from pandas) (2.9.0.post0)\n",
      "Requirement already satisfied: pytz>=2020.1 in c:\\programdata\\anaconda3\\lib\\site-packages (from pandas) (2024.1)\n",
      "Requirement already satisfied: tzdata>=2022.7 in c:\\programdata\\anaconda3\\lib\\site-packages (from pandas) (2023.3)\n",
      "Requirement already satisfied: scipy>=1.6.0 in c:\\users\\admin\\appdata\\roaming\\python\\python312\\site-packages (from scikit-learn) (1.16.1)\n",
      "Requirement already satisfied: joblib>=1.2.0 in c:\\programdata\\anaconda3\\lib\\site-packages (from scikit-learn) (1.4.2)\n",
      "Requirement already satisfied: threadpoolctl>=3.1.0 in c:\\programdata\\anaconda3\\lib\\site-packages (from scikit-learn) (3.5.0)\n",
      "Requirement already satisfied: contourpy>=1.0.1 in c:\\users\\admin\\appdata\\roaming\\python\\python312\\site-packages (from matplotlib) (1.3.3)\n",
      "Requirement already satisfied: cycler>=0.10 in c:\\users\\admin\\appdata\\roaming\\python\\python312\\site-packages (from matplotlib) (0.12.1)\n",
      "Requirement already satisfied: fonttools>=4.22.0 in c:\\users\\admin\\appdata\\roaming\\python\\python312\\site-packages (from matplotlib) (4.59.2)\n",
      "Requirement already satisfied: kiwisolver>=1.3.1 in c:\\users\\admin\\appdata\\roaming\\python\\python312\\site-packages (from matplotlib) (1.4.9)\n",
      "Requirement already satisfied: packaging>=20.0 in c:\\users\\admin\\appdata\\roaming\\python\\python312\\site-packages (from matplotlib) (25.0)\n",
      "Requirement already satisfied: pillow>=8 in c:\\users\\admin\\appdata\\roaming\\python\\python312\\site-packages (from matplotlib) (11.3.0)\n",
      "Requirement already satisfied: pyparsing>=2.3.1 in c:\\users\\admin\\appdata\\roaming\\python\\python312\\site-packages (from matplotlib) (3.2.3)\n",
      "Requirement already satisfied: six>=1.5 in c:\\users\\admin\\appdata\\roaming\\python\\python312\\site-packages (from python-dateutil>=2.8.2->pandas) (1.17.0)\n",
      "Note: you may need to restart the kernel to use updated packages.\n"
     ]
    }
   ],
   "source": [
    "pip install numpy pandas scikit-learn matplotlib"
   ]
  },
  {
   "cell_type": "markdown",
   "id": "d6d28163-ed94-456f-9eb3-357c163d5bc8",
   "metadata": {},
   "source": [
    "### 1. Import Libraries"
   ]
  },
  {
   "cell_type": "code",
   "execution_count": 72,
   "id": "3379df45-372d-45ba-98d4-5e841b85a2bb",
   "metadata": {},
   "outputs": [],
   "source": [
    "import os\n",
    "import mne\n",
    "import numpy as np\n",
    "import matplotlib.pyplot as plt\n",
    "import pandas as pd\n",
    "import seaborn as sns\n",
    "from scipy.signal import welch\n",
    "from scipy.stats import skew, kurtosis\n",
    "from sklearn.model_selection import train_test_split, cross_val_score, StratifiedKFold\n",
    "from sklearn.preprocessing import StandardScaler\n",
    "from sklearn.svm import SVC\n",
    "from sklearn.ensemble import RandomForestClassifier\n",
    "from sklearn.metrics import classification_report, accuracy_score, confusion_matrix, ConfusionMatrixDisplay "
   ]
  },
  {
   "cell_type": "markdown",
   "id": "780300c8-ace0-41d9-a623-951db8bdf85e",
   "metadata": {},
   "source": [
    "### 2. Loading of EDF and Hypnogram files"
   ]
  },
  {
   "cell_type": "code",
   "execution_count": 75,
   "id": "88d33935-596e-4d7f-bb82-a9a23dec7d4d",
   "metadata": {},
   "outputs": [
    {
     "name": "stdout",
     "output_type": "stream",
     "text": [
      "Files in folder: ['SC4001E0-PSG.edf', 'SC4001EC-Hypnogram.edf']\n",
      "First file: SC4001E0-PSG.edf\n",
      "Second file: SC4001EC-Hypnogram.edf\n"
     ]
    }
   ],
   "source": [
    "path = r\"C:\\Users\\Admin\\PycharmProjects\\SVM-RF-with-Sleep-Database\"\n",
    "data_dir = os.path.join(path, \"Data001\")\n",
    "files = os.listdir(data_dir)\n",
    "\n",
    "print(\"Files in folder:\", files)\n",
    "\n",
    "# Assign the first and second items\n",
    "edf_file = files[0]\n",
    "annot_file = files[1]\n",
    "\n",
    "print(\"First file:\", edf_file)\n",
    "print(\"Second file:\", annot_file)\n",
    "#file_path = os.path.join(path, \"Data001\", \"SC4001E0-PSG.edf\")"
   ]
  },
  {
   "cell_type": "code",
   "execution_count": 77,
   "id": "e8c977cd-c16c-4049-aef3-ad299cfd04eb",
   "metadata": {},
   "outputs": [
    {
     "name": "stdout",
     "output_type": "stream",
     "text": [
      "Extracting EDF parameters from C:\\Users\\Admin\\PycharmProjects\\SVM-RF-with-Sleep-Database\\Data001\\SC4001E0-PSG.edf...\n",
      "EDF file detected\n",
      "Setting channel info structure...\n",
      "Creating raw.info structure...\n",
      "Reading 0 ... 7949999  =      0.000 ... 79499.990 secs...\n"
     ]
    },
    {
     "name": "stderr",
     "output_type": "stream",
     "text": [
      "C:\\Users\\Admin\\AppData\\Local\\Temp\\ipykernel_21340\\2229384140.py:3: RuntimeWarning: Channels contain different highpass filters. Highest filter setting will be stored.\n",
      "  data = mne.io.read_raw_edf(path_edf, preload=True)\n",
      "C:\\Users\\Admin\\AppData\\Local\\Temp\\ipykernel_21340\\2229384140.py:3: RuntimeWarning: Channels contain different lowpass filters. Lowest filter setting will be stored.\n",
      "  data = mne.io.read_raw_edf(path_edf, preload=True)\n",
      "C:\\Users\\Admin\\AppData\\Local\\Temp\\ipykernel_21340\\2229384140.py:3: RuntimeWarning: Highpass cutoff frequency 16.0 is greater than lowpass cutoff frequency 0.7, setting values to 0 and Nyquist.\n",
      "  data = mne.io.read_raw_edf(path_edf, preload=True)\n",
      "C:\\Users\\Admin\\AppData\\Local\\Temp\\ipykernel_21340\\2229384140.py:5: RuntimeWarning: Limited 1 annotation(s) that were expanding outside the data range.\n",
      "  data.set_annotations(annots)\n"
     ]
    },
    {
     "data": {
      "text/html": [
       "<script type=\"text/javascript\">\n",
       "    // must be `var` (not `const`) because this can get embedded multiple times on a page\n",
       "var toggleVisibility = (className) => {\n",
       "\n",
       "    const elements = document.querySelectorAll(`.${className}`);\n",
       "\n",
       "    elements.forEach(element => {\n",
       "        if (element.classList.contains(\"mne-repr-section-header\")) {\n",
       "            return  // Don't collapse the section header row\n",
       "        }\n",
       "        element.classList.toggle(\"mne-repr-collapsed\");\n",
       "    });\n",
       "\n",
       "    // trigger caret to rotate\n",
       "    var sel = `.mne-repr-section-header.${className} > th.mne-repr-section-toggle > button`;\n",
       "    const button = document.querySelector(sel);\n",
       "    button.classList.toggle(\"collapsed\");\n",
       "\n",
       "    // adjust tooltip\n",
       "    sel = `tr.mne-repr-section-header.${className}`;\n",
       "    const secHeadRow = document.querySelector(sel);\n",
       "    secHeadRow.classList.toggle(\"collapsed\");\n",
       "    secHeadRow.title = secHeadRow.title === \"Hide section\" ? \"Show section\" : \"Hide section\";\n",
       "}\n",
       "</script>\n",
       "\n",
       "<style type=\"text/css\">\n",
       "    /*\n",
       "Styles in this section apply both to the sphinx-built website docs and to notebooks\n",
       "rendered in an IDE or in Jupyter. In our web docs, styles here are complemented by\n",
       "doc/_static/styles.css and other CSS files (e.g. from the sphinx theme, sphinx-gallery,\n",
       "or bootstrap). In IDEs/Jupyter, those style files are unavailable, so only the rules in\n",
       "this file apply (plus whatever default styling the IDE applies).\n",
       "*/\n",
       ".mne-repr-table {\n",
       "    display: inline;  /* prevent using full container width */\n",
       "}\n",
       ".mne-repr-table tr.mne-repr-section-header > th {\n",
       "    padding-top: 1rem;\n",
       "    text-align: left;\n",
       "    vertical-align: middle;\n",
       "}\n",
       ".mne-repr-section-toggle > button {\n",
       "    all: unset;\n",
       "    display: block;\n",
       "    height: 1rem;\n",
       "    width: 1rem;\n",
       "}\n",
       ".mne-repr-section-toggle > button > svg {\n",
       "    height: 60%;\n",
       "}\n",
       "\n",
       "/* transition (rotation) effects on the collapser button */\n",
       ".mne-repr-section-toggle > button.collapsed > svg {\n",
       "    transition: 0.1s ease-out;\n",
       "    transform: rotate(-90deg);\n",
       "}\n",
       ".mne-repr-section-toggle > button:not(.collapsed) > svg {\n",
       "    transition: 0.1s ease-out;\n",
       "    transform: rotate(0deg);\n",
       "}\n",
       "\n",
       "/* hide collapsed table rows */\n",
       ".mne-repr-collapsed {\n",
       "    display: none;\n",
       "}\n",
       "\n",
       "\n",
       "@layer {\n",
       "    /*\n",
       "    Selectors in a `@layer` will always be lower-precedence than selectors outside the\n",
       "    layer. So even though e.g. `div.output_html` is present in the sphinx-rendered\n",
       "    website docs, the styles here won't take effect there as long as some other rule\n",
       "    somewhere in the page's CSS targets the same element.\n",
       "\n",
       "    In IDEs or Jupyter notebooks, though, the CSS files from the sphinx theme,\n",
       "    sphinx-gallery, and bootstrap are unavailable, so these styles will apply.\n",
       "\n",
       "    Notes:\n",
       "\n",
       "    - the selector `.accordion-body` is for MNE Reports\n",
       "    - the selector `.output_html` is for VSCode's notebook interface\n",
       "    - the selector `.jp-RenderedHTML` is for Jupyter notebook\n",
       "    - variables starting with `--theme-` are VSCode-specific.\n",
       "    - variables starting with `--jp-` are Jupyter styles, *some of which* are also\n",
       "      available in VSCode. Here we try the `--theme-` variable first, then fall back to\n",
       "      the `--jp-` ones.\n",
       "    */\n",
       "    .mne-repr-table {\n",
       "        --mne-toggle-color: var(--theme-foreground, var(--jp-ui-font-color1));\n",
       "        --mne-button-bg-color: var(--theme-button-background, var(--jp-info-color0, var(--jp-content-link-color)));\n",
       "        --mne-button-fg-color: var(--theme-button-foreground, var(--jp-ui-inverse-font-color0, var(--jp-editor-background)));\n",
       "        --mne-button-hover-bg-color: var(--theme-button-hover-background, var(--jp-info-color1));\n",
       "        --mne-button-radius: var(--jp-border-radius, 0.25rem);\n",
       "    }\n",
       "    /* chevron position/alignment; in VSCode it looks ok without adjusting */\n",
       "    .accordion-body .mne-repr-section-toggle > button,\n",
       "    .jp-RenderedHTML .mne-repr-section-toggle > button {\n",
       "        padding: 0 0 45% 25% !important;\n",
       "    }\n",
       "    /* chevron color; MNE Report doesn't have light/dark mode */\n",
       "    div.output_html .mne-repr-section-toggle > button > svg > path,\n",
       "    .jp-RenderedHTML .mne-repr-section-toggle > button > svg > path {\n",
       "        fill: var(--mne-toggle-color);\n",
       "    }\n",
       "    .accordion-body .mne-ch-names-btn,\n",
       "    div.output_html .mne-ch-names-btn,\n",
       "    .jp-RenderedHTML .mne-ch-names-btn {\n",
       "        -webkit-border-radius: var(--mne-button-radius);\n",
       "        -moz-border-radius: var(--mne-button-radius);\n",
       "        border-radius: var(--mne-button-radius);\n",
       "        border: none;\n",
       "        background-image: none;\n",
       "        background-color: var(--mne-button-bg-color);\n",
       "        color: var(--mne-button-fg-color);\n",
       "        font-size: inherit;\n",
       "        min-width: 1.5rem;\n",
       "        padding: 0.25rem;\n",
       "        text-align: center;\n",
       "        text-decoration: none;\n",
       "    }\n",
       "    .accordion-body .mne-ch-names-btn:hover,\n",
       "    div.output_html .mne.ch-names-btn:hover,\n",
       "    .jp-RenderedHTML .mne-ch-names-btn:hover {\n",
       "        background-color: var(--mne-button-hover-bg-color);\n",
       "        text-decoration: underline;\n",
       "    }\n",
       "    .accordion-body .mne-ch-names-btn:focus-visible,\n",
       "    div.output_html .mne-ch-names-btn:focus-visible,\n",
       "    .jp-RenderedHTML .mne-ch-names-btn:focus-visible {\n",
       "        outline: 0.1875rem solid var(--mne-button-bg-color) !important;\n",
       "        outline-offset: 0.1875rem !important;\n",
       "    }\n",
       "}\n",
       "</style>\n",
       "\n",
       "\n",
       "\n",
       "<table class=\"table mne-repr-table\">\n",
       "    \n",
       "\n",
       "\n",
       "\n",
       "\n",
       "\n",
       "\n",
       "\n",
       "<tr class=\"mne-repr-section-header general-d51336d7-43f1-4708-92e8-873c6ef7322d\"\n",
       "     title=\"Hide section\" \n",
       "    onclick=\"toggleVisibility('general-d51336d7-43f1-4708-92e8-873c6ef7322d')\">\n",
       "    <th class=\"mne-repr-section-toggle\">\n",
       "        <button >\n",
       "            <svg xmlns=\"http://www.w3.org/2000/svg\" viewBox=\"0 0 512 512\"><!--!Font Awesome Free 6.6.0 by @fontawesome - https://fontawesome.com License - https://fontawesome.com/license/free Copyright 2024 Fonticons, Inc.--><path d=\"M233.4 406.6c12.5 12.5 32.8 12.5 45.3 0l192-192c12.5-12.5 12.5-32.8 0-45.3s-32.8-12.5-45.3 0L256 338.7 86.6 169.4c-12.5-12.5-32.8-12.5-45.3 0s-12.5 32.8 0 45.3l192 192z\"/></svg>\n",
       "        </button>\n",
       "    </th>\n",
       "    <th colspan=\"2\">\n",
       "        <strong>General</strong>\n",
       "    </th>\n",
       "</tr>\n",
       "\n",
       "\n",
       "<tr class=\"repr-element general-d51336d7-43f1-4708-92e8-873c6ef7322d \">\n",
       "    <td class=\"mne-repr-section-toggle\"></td>\n",
       "    <td>Filename(s)</td>\n",
       "    <td>\n",
       "        \n",
       "        SC4001E0-PSG.edf\n",
       "        \n",
       "        \n",
       "    </td>\n",
       "</tr>\n",
       "\n",
       "<tr class=\"repr-element general-d51336d7-43f1-4708-92e8-873c6ef7322d \">\n",
       "    <td class=\"mne-repr-section-toggle\"></td>\n",
       "    <td>MNE object type</td>\n",
       "    <td>RawEDF</td>\n",
       "</tr>\n",
       "<tr class=\"repr-element general-d51336d7-43f1-4708-92e8-873c6ef7322d \">\n",
       "    <td class=\"mne-repr-section-toggle\"></td>\n",
       "    <td>Measurement date</td>\n",
       "    \n",
       "    <td>1989-04-24 at 16:13:00 UTC</td>\n",
       "    \n",
       "</tr>\n",
       "<tr class=\"repr-element general-d51336d7-43f1-4708-92e8-873c6ef7322d \">\n",
       "    <td class=\"mne-repr-section-toggle\"></td>\n",
       "    <td>Participant</td>\n",
       "    \n",
       "    \n",
       "    <td>X</td>\n",
       "    \n",
       "    \n",
       "</tr>\n",
       "<tr class=\"repr-element general-d51336d7-43f1-4708-92e8-873c6ef7322d \">\n",
       "    <td class=\"mne-repr-section-toggle\"></td>\n",
       "    <td>Experimenter</td>\n",
       "    \n",
       "    <td>Unknown</td>\n",
       "    \n",
       "</tr>\n",
       "    \n",
       "\n",
       "\n",
       "\n",
       "\n",
       "\n",
       "\n",
       "\n",
       "<tr class=\"mne-repr-section-header acquisition-9729af60-a62f-4dba-9e12-ffaebbcbd786\"\n",
       "     title=\"Hide section\" \n",
       "    onclick=\"toggleVisibility('acquisition-9729af60-a62f-4dba-9e12-ffaebbcbd786')\">\n",
       "    <th class=\"mne-repr-section-toggle\">\n",
       "        <button >\n",
       "            <svg xmlns=\"http://www.w3.org/2000/svg\" viewBox=\"0 0 512 512\"><!--!Font Awesome Free 6.6.0 by @fontawesome - https://fontawesome.com License - https://fontawesome.com/license/free Copyright 2024 Fonticons, Inc.--><path d=\"M233.4 406.6c12.5 12.5 32.8 12.5 45.3 0l192-192c12.5-12.5 12.5-32.8 0-45.3s-32.8-12.5-45.3 0L256 338.7 86.6 169.4c-12.5-12.5-32.8-12.5-45.3 0s-12.5 32.8 0 45.3l192 192z\"/></svg>\n",
       "        </button>\n",
       "    </th>\n",
       "    <th colspan=\"2\">\n",
       "        <strong>Acquisition</strong>\n",
       "    </th>\n",
       "</tr>\n",
       "\n",
       "\n",
       "<tr class=\"repr-element acquisition-9729af60-a62f-4dba-9e12-ffaebbcbd786 \">\n",
       "    <td class=\"mne-repr-section-toggle\"></td>\n",
       "    <td>Duration</td>\n",
       "    <td>22:05:00 (HH:MM:SS)</td>\n",
       "</tr>\n",
       "\n",
       "\n",
       "\n",
       "\n",
       "\n",
       "\n",
       "\n",
       "\n",
       "<tr class=\"repr-element acquisition-9729af60-a62f-4dba-9e12-ffaebbcbd786 \">\n",
       "    <td class=\"mne-repr-section-toggle\"></td>\n",
       "    <td>Sampling frequency</td>\n",
       "    <td>100.00 Hz</td>\n",
       "</tr>\n",
       "\n",
       "\n",
       "<tr class=\"repr-element acquisition-9729af60-a62f-4dba-9e12-ffaebbcbd786 \">\n",
       "    <td class=\"mne-repr-section-toggle\"></td>\n",
       "    <td>Time points</td>\n",
       "    <td>7,950,000</td>\n",
       "</tr>\n",
       "\n",
       "\n",
       "    \n",
       "\n",
       "\n",
       "\n",
       "\n",
       "\n",
       "\n",
       "\n",
       "<tr class=\"mne-repr-section-header channels-bcfd0005-d62c-4cf9-a4b1-7eafc2c69fbb\"\n",
       "     title=\"Hide section\" \n",
       "    onclick=\"toggleVisibility('channels-bcfd0005-d62c-4cf9-a4b1-7eafc2c69fbb')\">\n",
       "    <th class=\"mne-repr-section-toggle\">\n",
       "        <button >\n",
       "            <svg xmlns=\"http://www.w3.org/2000/svg\" viewBox=\"0 0 512 512\"><!--!Font Awesome Free 6.6.0 by @fontawesome - https://fontawesome.com License - https://fontawesome.com/license/free Copyright 2024 Fonticons, Inc.--><path d=\"M233.4 406.6c12.5 12.5 32.8 12.5 45.3 0l192-192c12.5-12.5 12.5-32.8 0-45.3s-32.8-12.5-45.3 0L256 338.7 86.6 169.4c-12.5-12.5-32.8-12.5-45.3 0s-12.5 32.8 0 45.3l192 192z\"/></svg>\n",
       "        </button>\n",
       "    </th>\n",
       "    <th colspan=\"2\">\n",
       "        <strong>Channels</strong>\n",
       "    </th>\n",
       "</tr>\n",
       "\n",
       "\n",
       "    \n",
       "<tr class=\"repr-element channels-bcfd0005-d62c-4cf9-a4b1-7eafc2c69fbb \">\n",
       "    <td class=\"mne-repr-section-toggle\"></td>\n",
       "    <td>EEG</td>\n",
       "    <td>\n",
       "        <button class=\"mne-ch-names-btn sd-sphinx-override sd-btn sd-btn-info sd-text-wrap sd-shadow-sm\" onclick=\"alert('Good EEG:\\n\\nEEG&nbsp;Fpz-Cz, EEG&nbsp;Pz-Oz, EOG&nbsp;horizontal, Resp&nbsp;oro-nasal, EMG&nbsp;submental, Temp&nbsp;rectal, Event&nbsp;marker')\" title=\"(Click to open in popup)&#13;&#13;EEG&nbsp;Fpz-Cz, EEG&nbsp;Pz-Oz, EOG&nbsp;horizontal, Resp&nbsp;oro-nasal, EMG&nbsp;submental, Temp&nbsp;rectal, Event&nbsp;marker\">\n",
       "            7\n",
       "        </button>\n",
       "\n",
       "        \n",
       "    </td>\n",
       "</tr>\n",
       "\n",
       "\n",
       "<tr class=\"repr-element channels-bcfd0005-d62c-4cf9-a4b1-7eafc2c69fbb \">\n",
       "    <td class=\"mne-repr-section-toggle\"></td>\n",
       "    <td>Head & sensor digitization</td>\n",
       "    \n",
       "    <td>Not available</td>\n",
       "    \n",
       "</tr>\n",
       "    \n",
       "\n",
       "\n",
       "\n",
       "\n",
       "\n",
       "\n",
       "\n",
       "<tr class=\"mne-repr-section-header filters-21574e23-3b37-4fc1-835b-1ed17d3e97cb\"\n",
       "     title=\"Hide section\" \n",
       "    onclick=\"toggleVisibility('filters-21574e23-3b37-4fc1-835b-1ed17d3e97cb')\">\n",
       "    <th class=\"mne-repr-section-toggle\">\n",
       "        <button >\n",
       "            <svg xmlns=\"http://www.w3.org/2000/svg\" viewBox=\"0 0 512 512\"><!--!Font Awesome Free 6.6.0 by @fontawesome - https://fontawesome.com License - https://fontawesome.com/license/free Copyright 2024 Fonticons, Inc.--><path d=\"M233.4 406.6c12.5 12.5 32.8 12.5 45.3 0l192-192c12.5-12.5 12.5-32.8 0-45.3s-32.8-12.5-45.3 0L256 338.7 86.6 169.4c-12.5-12.5-32.8-12.5-45.3 0s-12.5 32.8 0 45.3l192 192z\"/></svg>\n",
       "        </button>\n",
       "    </th>\n",
       "    <th colspan=\"2\">\n",
       "        <strong>Filters</strong>\n",
       "    </th>\n",
       "</tr>\n",
       "\n",
       "\n",
       "<tr class=\"repr-element filters-21574e23-3b37-4fc1-835b-1ed17d3e97cb \">\n",
       "    <td class=\"mne-repr-section-toggle\"></td>\n",
       "    <td>Highpass</td>\n",
       "    <td>0.00 Hz</td>\n",
       "</tr>\n",
       "\n",
       "\n",
       "<tr class=\"repr-element filters-21574e23-3b37-4fc1-835b-1ed17d3e97cb \">\n",
       "    <td class=\"mne-repr-section-toggle\"></td>\n",
       "    <td>Lowpass</td>\n",
       "    <td>50.00 Hz</td>\n",
       "</tr>\n",
       "\n",
       "\n",
       "</table>"
      ],
      "text/plain": [
       "<RawEDF | SC4001E0-PSG.edf, 7 x 7950000 (79500.0 s), ~424.6 MiB, data loaded>"
      ]
     },
     "execution_count": 77,
     "metadata": {},
     "output_type": "execute_result"
    }
   ],
   "source": [
    "path_edf = os.path.join(data_dir, edf_file)\n",
    "path_annot = os.path.join(data_dir, annot_file)\n",
    "data = mne.io.read_raw_edf(path_edf, preload=True)\n",
    "annots = mne.read_annotations(path_annot)\n",
    "data.set_annotations(annots)"
   ]
  },
  {
   "cell_type": "markdown",
   "id": "9802f253-63eb-4349-b031-47e57679b5c2",
   "metadata": {},
   "source": [
    "### 3. Resampling"
   ]
  },
  {
   "cell_type": "code",
   "execution_count": 80,
   "id": "a00d7f40-1e72-4f0c-b2dd-fbbdb3d07c32",
   "metadata": {},
   "outputs": [
    {
     "data": {
      "text/html": [
       "<script type=\"text/javascript\">\n",
       "    // must be `var` (not `const`) because this can get embedded multiple times on a page\n",
       "var toggleVisibility = (className) => {\n",
       "\n",
       "    const elements = document.querySelectorAll(`.${className}`);\n",
       "\n",
       "    elements.forEach(element => {\n",
       "        if (element.classList.contains(\"mne-repr-section-header\")) {\n",
       "            return  // Don't collapse the section header row\n",
       "        }\n",
       "        element.classList.toggle(\"mne-repr-collapsed\");\n",
       "    });\n",
       "\n",
       "    // trigger caret to rotate\n",
       "    var sel = `.mne-repr-section-header.${className} > th.mne-repr-section-toggle > button`;\n",
       "    const button = document.querySelector(sel);\n",
       "    button.classList.toggle(\"collapsed\");\n",
       "\n",
       "    // adjust tooltip\n",
       "    sel = `tr.mne-repr-section-header.${className}`;\n",
       "    const secHeadRow = document.querySelector(sel);\n",
       "    secHeadRow.classList.toggle(\"collapsed\");\n",
       "    secHeadRow.title = secHeadRow.title === \"Hide section\" ? \"Show section\" : \"Hide section\";\n",
       "}\n",
       "</script>\n",
       "\n",
       "<style type=\"text/css\">\n",
       "    /*\n",
       "Styles in this section apply both to the sphinx-built website docs and to notebooks\n",
       "rendered in an IDE or in Jupyter. In our web docs, styles here are complemented by\n",
       "doc/_static/styles.css and other CSS files (e.g. from the sphinx theme, sphinx-gallery,\n",
       "or bootstrap). In IDEs/Jupyter, those style files are unavailable, so only the rules in\n",
       "this file apply (plus whatever default styling the IDE applies).\n",
       "*/\n",
       ".mne-repr-table {\n",
       "    display: inline;  /* prevent using full container width */\n",
       "}\n",
       ".mne-repr-table tr.mne-repr-section-header > th {\n",
       "    padding-top: 1rem;\n",
       "    text-align: left;\n",
       "    vertical-align: middle;\n",
       "}\n",
       ".mne-repr-section-toggle > button {\n",
       "    all: unset;\n",
       "    display: block;\n",
       "    height: 1rem;\n",
       "    width: 1rem;\n",
       "}\n",
       ".mne-repr-section-toggle > button > svg {\n",
       "    height: 60%;\n",
       "}\n",
       "\n",
       "/* transition (rotation) effects on the collapser button */\n",
       ".mne-repr-section-toggle > button.collapsed > svg {\n",
       "    transition: 0.1s ease-out;\n",
       "    transform: rotate(-90deg);\n",
       "}\n",
       ".mne-repr-section-toggle > button:not(.collapsed) > svg {\n",
       "    transition: 0.1s ease-out;\n",
       "    transform: rotate(0deg);\n",
       "}\n",
       "\n",
       "/* hide collapsed table rows */\n",
       ".mne-repr-collapsed {\n",
       "    display: none;\n",
       "}\n",
       "\n",
       "\n",
       "@layer {\n",
       "    /*\n",
       "    Selectors in a `@layer` will always be lower-precedence than selectors outside the\n",
       "    layer. So even though e.g. `div.output_html` is present in the sphinx-rendered\n",
       "    website docs, the styles here won't take effect there as long as some other rule\n",
       "    somewhere in the page's CSS targets the same element.\n",
       "\n",
       "    In IDEs or Jupyter notebooks, though, the CSS files from the sphinx theme,\n",
       "    sphinx-gallery, and bootstrap are unavailable, so these styles will apply.\n",
       "\n",
       "    Notes:\n",
       "\n",
       "    - the selector `.accordion-body` is for MNE Reports\n",
       "    - the selector `.output_html` is for VSCode's notebook interface\n",
       "    - the selector `.jp-RenderedHTML` is for Jupyter notebook\n",
       "    - variables starting with `--theme-` are VSCode-specific.\n",
       "    - variables starting with `--jp-` are Jupyter styles, *some of which* are also\n",
       "      available in VSCode. Here we try the `--theme-` variable first, then fall back to\n",
       "      the `--jp-` ones.\n",
       "    */\n",
       "    .mne-repr-table {\n",
       "        --mne-toggle-color: var(--theme-foreground, var(--jp-ui-font-color1));\n",
       "        --mne-button-bg-color: var(--theme-button-background, var(--jp-info-color0, var(--jp-content-link-color)));\n",
       "        --mne-button-fg-color: var(--theme-button-foreground, var(--jp-ui-inverse-font-color0, var(--jp-editor-background)));\n",
       "        --mne-button-hover-bg-color: var(--theme-button-hover-background, var(--jp-info-color1));\n",
       "        --mne-button-radius: var(--jp-border-radius, 0.25rem);\n",
       "    }\n",
       "    /* chevron position/alignment; in VSCode it looks ok without adjusting */\n",
       "    .accordion-body .mne-repr-section-toggle > button,\n",
       "    .jp-RenderedHTML .mne-repr-section-toggle > button {\n",
       "        padding: 0 0 45% 25% !important;\n",
       "    }\n",
       "    /* chevron color; MNE Report doesn't have light/dark mode */\n",
       "    div.output_html .mne-repr-section-toggle > button > svg > path,\n",
       "    .jp-RenderedHTML .mne-repr-section-toggle > button > svg > path {\n",
       "        fill: var(--mne-toggle-color);\n",
       "    }\n",
       "    .accordion-body .mne-ch-names-btn,\n",
       "    div.output_html .mne-ch-names-btn,\n",
       "    .jp-RenderedHTML .mne-ch-names-btn {\n",
       "        -webkit-border-radius: var(--mne-button-radius);\n",
       "        -moz-border-radius: var(--mne-button-radius);\n",
       "        border-radius: var(--mne-button-radius);\n",
       "        border: none;\n",
       "        background-image: none;\n",
       "        background-color: var(--mne-button-bg-color);\n",
       "        color: var(--mne-button-fg-color);\n",
       "        font-size: inherit;\n",
       "        min-width: 1.5rem;\n",
       "        padding: 0.25rem;\n",
       "        text-align: center;\n",
       "        text-decoration: none;\n",
       "    }\n",
       "    .accordion-body .mne-ch-names-btn:hover,\n",
       "    div.output_html .mne.ch-names-btn:hover,\n",
       "    .jp-RenderedHTML .mne-ch-names-btn:hover {\n",
       "        background-color: var(--mne-button-hover-bg-color);\n",
       "        text-decoration: underline;\n",
       "    }\n",
       "    .accordion-body .mne-ch-names-btn:focus-visible,\n",
       "    div.output_html .mne-ch-names-btn:focus-visible,\n",
       "    .jp-RenderedHTML .mne-ch-names-btn:focus-visible {\n",
       "        outline: 0.1875rem solid var(--mne-button-bg-color) !important;\n",
       "        outline-offset: 0.1875rem !important;\n",
       "    }\n",
       "}\n",
       "</style>\n",
       "\n",
       "\n",
       "\n",
       "<table class=\"table mne-repr-table\">\n",
       "    \n",
       "\n",
       "\n",
       "\n",
       "\n",
       "\n",
       "\n",
       "\n",
       "<tr class=\"mne-repr-section-header general-05142097-5079-4db6-8b43-57f00df17208\"\n",
       "     title=\"Hide section\" \n",
       "    onclick=\"toggleVisibility('general-05142097-5079-4db6-8b43-57f00df17208')\">\n",
       "    <th class=\"mne-repr-section-toggle\">\n",
       "        <button >\n",
       "            <svg xmlns=\"http://www.w3.org/2000/svg\" viewBox=\"0 0 512 512\"><!--!Font Awesome Free 6.6.0 by @fontawesome - https://fontawesome.com License - https://fontawesome.com/license/free Copyright 2024 Fonticons, Inc.--><path d=\"M233.4 406.6c12.5 12.5 32.8 12.5 45.3 0l192-192c12.5-12.5 12.5-32.8 0-45.3s-32.8-12.5-45.3 0L256 338.7 86.6 169.4c-12.5-12.5-32.8-12.5-45.3 0s-12.5 32.8 0 45.3l192 192z\"/></svg>\n",
       "        </button>\n",
       "    </th>\n",
       "    <th colspan=\"2\">\n",
       "        <strong>General</strong>\n",
       "    </th>\n",
       "</tr>\n",
       "\n",
       "\n",
       "<tr class=\"repr-element general-05142097-5079-4db6-8b43-57f00df17208 \">\n",
       "    <td class=\"mne-repr-section-toggle\"></td>\n",
       "    <td>Filename(s)</td>\n",
       "    <td>\n",
       "        \n",
       "        SC4001E0-PSG.edf\n",
       "        \n",
       "        \n",
       "    </td>\n",
       "</tr>\n",
       "\n",
       "<tr class=\"repr-element general-05142097-5079-4db6-8b43-57f00df17208 \">\n",
       "    <td class=\"mne-repr-section-toggle\"></td>\n",
       "    <td>MNE object type</td>\n",
       "    <td>RawEDF</td>\n",
       "</tr>\n",
       "<tr class=\"repr-element general-05142097-5079-4db6-8b43-57f00df17208 \">\n",
       "    <td class=\"mne-repr-section-toggle\"></td>\n",
       "    <td>Measurement date</td>\n",
       "    \n",
       "    <td>1989-04-24 at 16:13:00 UTC</td>\n",
       "    \n",
       "</tr>\n",
       "<tr class=\"repr-element general-05142097-5079-4db6-8b43-57f00df17208 \">\n",
       "    <td class=\"mne-repr-section-toggle\"></td>\n",
       "    <td>Participant</td>\n",
       "    \n",
       "    \n",
       "    <td>X</td>\n",
       "    \n",
       "    \n",
       "</tr>\n",
       "<tr class=\"repr-element general-05142097-5079-4db6-8b43-57f00df17208 \">\n",
       "    <td class=\"mne-repr-section-toggle\"></td>\n",
       "    <td>Experimenter</td>\n",
       "    \n",
       "    <td>Unknown</td>\n",
       "    \n",
       "</tr>\n",
       "    \n",
       "\n",
       "\n",
       "\n",
       "\n",
       "\n",
       "\n",
       "\n",
       "<tr class=\"mne-repr-section-header acquisition-88740771-1df7-4679-8c4b-f5f6b426bbc7\"\n",
       "     title=\"Hide section\" \n",
       "    onclick=\"toggleVisibility('acquisition-88740771-1df7-4679-8c4b-f5f6b426bbc7')\">\n",
       "    <th class=\"mne-repr-section-toggle\">\n",
       "        <button >\n",
       "            <svg xmlns=\"http://www.w3.org/2000/svg\" viewBox=\"0 0 512 512\"><!--!Font Awesome Free 6.6.0 by @fontawesome - https://fontawesome.com License - https://fontawesome.com/license/free Copyright 2024 Fonticons, Inc.--><path d=\"M233.4 406.6c12.5 12.5 32.8 12.5 45.3 0l192-192c12.5-12.5 12.5-32.8 0-45.3s-32.8-12.5-45.3 0L256 338.7 86.6 169.4c-12.5-12.5-32.8-12.5-45.3 0s-12.5 32.8 0 45.3l192 192z\"/></svg>\n",
       "        </button>\n",
       "    </th>\n",
       "    <th colspan=\"2\">\n",
       "        <strong>Acquisition</strong>\n",
       "    </th>\n",
       "</tr>\n",
       "\n",
       "\n",
       "<tr class=\"repr-element acquisition-88740771-1df7-4679-8c4b-f5f6b426bbc7 \">\n",
       "    <td class=\"mne-repr-section-toggle\"></td>\n",
       "    <td>Duration</td>\n",
       "    <td>22:05:00 (HH:MM:SS)</td>\n",
       "</tr>\n",
       "\n",
       "\n",
       "\n",
       "\n",
       "\n",
       "\n",
       "\n",
       "\n",
       "<tr class=\"repr-element acquisition-88740771-1df7-4679-8c4b-f5f6b426bbc7 \">\n",
       "    <td class=\"mne-repr-section-toggle\"></td>\n",
       "    <td>Sampling frequency</td>\n",
       "    <td>50.00 Hz</td>\n",
       "</tr>\n",
       "\n",
       "\n",
       "<tr class=\"repr-element acquisition-88740771-1df7-4679-8c4b-f5f6b426bbc7 \">\n",
       "    <td class=\"mne-repr-section-toggle\"></td>\n",
       "    <td>Time points</td>\n",
       "    <td>3,975,000</td>\n",
       "</tr>\n",
       "\n",
       "\n",
       "    \n",
       "\n",
       "\n",
       "\n",
       "\n",
       "\n",
       "\n",
       "\n",
       "<tr class=\"mne-repr-section-header channels-ad04e87b-e32c-452d-82f2-a1819f2d5db5\"\n",
       "     title=\"Hide section\" \n",
       "    onclick=\"toggleVisibility('channels-ad04e87b-e32c-452d-82f2-a1819f2d5db5')\">\n",
       "    <th class=\"mne-repr-section-toggle\">\n",
       "        <button >\n",
       "            <svg xmlns=\"http://www.w3.org/2000/svg\" viewBox=\"0 0 512 512\"><!--!Font Awesome Free 6.6.0 by @fontawesome - https://fontawesome.com License - https://fontawesome.com/license/free Copyright 2024 Fonticons, Inc.--><path d=\"M233.4 406.6c12.5 12.5 32.8 12.5 45.3 0l192-192c12.5-12.5 12.5-32.8 0-45.3s-32.8-12.5-45.3 0L256 338.7 86.6 169.4c-12.5-12.5-32.8-12.5-45.3 0s-12.5 32.8 0 45.3l192 192z\"/></svg>\n",
       "        </button>\n",
       "    </th>\n",
       "    <th colspan=\"2\">\n",
       "        <strong>Channels</strong>\n",
       "    </th>\n",
       "</tr>\n",
       "\n",
       "\n",
       "    \n",
       "<tr class=\"repr-element channels-ad04e87b-e32c-452d-82f2-a1819f2d5db5 \">\n",
       "    <td class=\"mne-repr-section-toggle\"></td>\n",
       "    <td>EEG</td>\n",
       "    <td>\n",
       "        <button class=\"mne-ch-names-btn sd-sphinx-override sd-btn sd-btn-info sd-text-wrap sd-shadow-sm\" onclick=\"alert('Good EEG:\\n\\nEEG&nbsp;Fpz-Cz, EEG&nbsp;Pz-Oz, EOG&nbsp;horizontal, Resp&nbsp;oro-nasal, EMG&nbsp;submental, Temp&nbsp;rectal, Event&nbsp;marker')\" title=\"(Click to open in popup)&#13;&#13;EEG&nbsp;Fpz-Cz, EEG&nbsp;Pz-Oz, EOG&nbsp;horizontal, Resp&nbsp;oro-nasal, EMG&nbsp;submental, Temp&nbsp;rectal, Event&nbsp;marker\">\n",
       "            7\n",
       "        </button>\n",
       "\n",
       "        \n",
       "    </td>\n",
       "</tr>\n",
       "\n",
       "\n",
       "<tr class=\"repr-element channels-ad04e87b-e32c-452d-82f2-a1819f2d5db5 \">\n",
       "    <td class=\"mne-repr-section-toggle\"></td>\n",
       "    <td>Head & sensor digitization</td>\n",
       "    \n",
       "    <td>Not available</td>\n",
       "    \n",
       "</tr>\n",
       "    \n",
       "\n",
       "\n",
       "\n",
       "\n",
       "\n",
       "\n",
       "\n",
       "<tr class=\"mne-repr-section-header filters-7a3d0ca9-6860-4054-8955-f8f6ab2c9de2\"\n",
       "     title=\"Hide section\" \n",
       "    onclick=\"toggleVisibility('filters-7a3d0ca9-6860-4054-8955-f8f6ab2c9de2')\">\n",
       "    <th class=\"mne-repr-section-toggle\">\n",
       "        <button >\n",
       "            <svg xmlns=\"http://www.w3.org/2000/svg\" viewBox=\"0 0 512 512\"><!--!Font Awesome Free 6.6.0 by @fontawesome - https://fontawesome.com License - https://fontawesome.com/license/free Copyright 2024 Fonticons, Inc.--><path d=\"M233.4 406.6c12.5 12.5 32.8 12.5 45.3 0l192-192c12.5-12.5 12.5-32.8 0-45.3s-32.8-12.5-45.3 0L256 338.7 86.6 169.4c-12.5-12.5-32.8-12.5-45.3 0s-12.5 32.8 0 45.3l192 192z\"/></svg>\n",
       "        </button>\n",
       "    </th>\n",
       "    <th colspan=\"2\">\n",
       "        <strong>Filters</strong>\n",
       "    </th>\n",
       "</tr>\n",
       "\n",
       "\n",
       "<tr class=\"repr-element filters-7a3d0ca9-6860-4054-8955-f8f6ab2c9de2 \">\n",
       "    <td class=\"mne-repr-section-toggle\"></td>\n",
       "    <td>Highpass</td>\n",
       "    <td>0.00 Hz</td>\n",
       "</tr>\n",
       "\n",
       "\n",
       "<tr class=\"repr-element filters-7a3d0ca9-6860-4054-8955-f8f6ab2c9de2 \">\n",
       "    <td class=\"mne-repr-section-toggle\"></td>\n",
       "    <td>Lowpass</td>\n",
       "    <td>25.00 Hz</td>\n",
       "</tr>\n",
       "\n",
       "\n",
       "</table>"
      ],
      "text/plain": [
       "<RawEDF | SC4001E0-PSG.edf, 7 x 3975000 (79500.0 s), ~212.3 MiB, data loaded>"
      ]
     },
     "execution_count": 80,
     "metadata": {},
     "output_type": "execute_result"
    }
   ],
   "source": [
    "data.resample(50)"
   ]
  },
  {
   "cell_type": "markdown",
   "id": "8b712824-22f6-47ba-a47d-90a3e53bc5e1",
   "metadata": {},
   "source": [
    "### 4. Extraction of Epochs"
   ]
  },
  {
   "cell_type": "code",
   "execution_count": 83,
   "id": "6151faf3-abfa-4b88-9d84-4c30a0a1adc6",
   "metadata": {},
   "outputs": [
    {
     "name": "stdout",
     "output_type": "stream",
     "text": [
      "Used Annotations descriptions: ['Sleep stage 1', 'Sleep stage 2', 'Sleep stage 3', 'Sleep stage 4', 'Sleep stage R', 'Sleep stage W']\n",
      "Not setting metadata\n",
      "153 matching events found\n",
      "No baseline correction applied\n",
      "0 projection items activated\n",
      "Using data from preloaded Raw for 153 events and 1501 original time points ...\n",
      "0 bad epochs dropped\n",
      "[0 1 2 3 2 3 3 3 3 3 3 3 3 0 3 2 3 3 3 3 2 3 2 3 1 2 3 2 3 2 3 3 3 2 3 3 3\n",
      " 3 1 3 2 3 2 3 4 1 2 3 1 2 1 2 3 2 3 3 3 3 3 3 3 2 3 3 3 3 3 3 3 3 3 3 3 3\n",
      " 1 2 1 2 1 2 1 2 4 2 1 0 1 2 1 2 1 2 3 2 3 2 3 2 3 3 3 2 3 2 3 3 3 3 3 3 2\n",
      " 3 3 2 4 1 4 0 1 0 1 0 1 2 0 1 2 3 2 3 2 3 2 3 2 3 2 3 2 3 2 1 4 0 1 4 0 1\n",
      " 0 1 0 1 0]\n"
     ]
    }
   ],
   "source": [
    "mapping = {\n",
    "    \"Sleep stage W\": 0,   # Wake\n",
    "    \"Sleep stage 1\": 1,\n",
    "    \"Sleep stage 2\": 2,\n",
    "    \"Sleep stage 3\": 3,\n",
    "    \"Sleep stage 4\": 3,  # merge stage3/stage4\n",
    "    \"Sleep stage R\": 4\n",
    "}\n",
    "\n",
    "events, event_id = mne.events_from_annotations(data, event_id=mapping)\n",
    "\n",
    "epochs = mne.Epochs(\n",
    "    data,\n",
    "    events,\n",
    "    event_id=None,\n",
    "    tmin=0,\n",
    "    tmax=30,\n",
    "    baseline=None,\n",
    "    detrend=1,\n",
    "    preload=True\n",
    ")\n",
    "\n",
    "labels = epochs.events[:, -1]  # numeric stage labels\n",
    "print(labels)\n",
    "\n",
    "#unique, counts = np.unique(labels, return_counts=True)\n",
    "#stage_counts = dict(zip(unique, counts))\n",
    "#print(\"Counts per stage (integer labels):\", stage_counts)\n",
    "\n",
    "#id_to_stage = {0: \"W\", 1: \"N1\", 2: \"N2\", 3: \"N3\", 4: \"REM\"}\n",
    "#stage_counts_named = {id_to_stage[k]: v for k, v in stage_counts.items()}\n",
    "#print(\"Counts per stage (names):\", stage_counts_named)\n",
    "\n",
    "#print(\"Total (items): \", len(labels))"
   ]
  },
  {
   "cell_type": "markdown",
   "id": "105fa37f-0531-46f8-9866-d1b565e6cb19",
   "metadata": {},
   "source": [
    "### 5. Extracts the numeric stage codes for each epoch."
   ]
  },
  {
   "cell_type": "code",
   "execution_count": 86,
   "id": "33cf542a-6a21-453f-b385-20a2a93e8fe8",
   "metadata": {},
   "outputs": [
    {
     "name": "stdout",
     "output_type": "stream",
     "text": [
      "(array([0, 1]), array([ 12, 141], dtype=int64))\n"
     ]
    }
   ],
   "source": [
    "# Converts numeric stage codes into binary labels (0/1).\n",
    "# 0 = Awake (W)\n",
    "# 1 = Asleep (N1, N2, N3, REM)\n",
    "\n",
    "stage_map = {\n",
    "    0: 0,  # Wake -> 0\n",
    "    1: 1,  # N1 -> Sleep\n",
    "    2: 1,  # N2 -> Sleep\n",
    "    3: 1,  # N3 -> Sleep\n",
    "    4: 1   # REM -> Sleep\n",
    "}\n",
    "\n",
    "# y = target labels for classification.\n",
    "y = np.array([stage_map[item] for item in labels])\n",
    "\n",
    "print(np.unique(y, return_counts=True))\n"
   ]
  },
  {
   "cell_type": "markdown",
   "id": "2fdf7f46-b847-47e4-92a3-c871705463c6",
   "metadata": {},
   "source": [
    "### 6. Feature Extraction (with one channel (e.g. EEG Fpz-Cz))"
   ]
  },
  {
   "cell_type": "code",
   "execution_count": 89,
   "id": "4d5dd6bb-19dc-436e-8074-1690a0a116a9",
   "metadata": {},
   "outputs": [],
   "source": [
    "def extract_features(epoch_data, sfreq):\n",
    "    # Extracts spectral band powers from one epoch\n",
    "    f, psd = welch(epoch_data, sfreq, nperseg=sfreq*2)\n",
    "    bands = {\n",
    "        \"delta\": (0.5, 4),\n",
    "        \"theta\": (4, 8),\n",
    "        \"alpha\": (8, 12),\n",
    "        \"beta\": (12, 30)\n",
    "    }\n",
    "    feats = []\n",
    "    for (low, high) in bands.values():\n",
    "        idx = np.logical_and(f >= low, f <= high)\n",
    "        feats.append(np.mean(psd[idx]))\n",
    "        \n",
    "    # Add time-domain features\n",
    "    feats.append(np.mean(epoch_data))\n",
    "    feats.append(np.std(epoch_data))\n",
    "    return np.array(feats)\n",
    "\n",
    "X = []\n",
    "for ep in epochs.get_data():    # shape (n_epochs, n_channels, n_times)\n",
    "    ep_data = ep[0]             # take only first EEG channel\n",
    "    feats = extract_features(ep_data, epochs.info['sfreq'])\n",
    "    X.append(feats)\n",
    "\n",
    "X = np.vstack(X)\n",
    "#print(epochs.info['ch_names'][0])\n",
    "#print(X)"
   ]
  },
  {
   "cell_type": "markdown",
   "id": "e8612ba4-7171-4143-a652-c9a0561d6b15",
   "metadata": {},
   "source": [
    "### 7. Splitting of Train and Test (with one channel)"
   ]
  },
  {
   "cell_type": "code",
   "execution_count": 92,
   "id": "09b8f6a5-b9ed-4cb2-b9d0-868064cf3bf1",
   "metadata": {},
   "outputs": [],
   "source": [
    "X_train, X_test, y_train, y_test = train_test_split(\n",
    "    X, y, test_size=0.2, stratify=y, random_state=42\n",
    ")"
   ]
  },
  {
   "cell_type": "markdown",
   "id": "19dc5b98-f3e9-488b-bf78-a13722b55e97",
   "metadata": {},
   "source": [
    "### 8. Support Vector Machines (with one channel)"
   ]
  },
  {
   "cell_type": "code",
   "execution_count": 95,
   "id": "34626319-833b-495d-9ecc-f786f38ee56f",
   "metadata": {},
   "outputs": [],
   "source": [
    "scaler = StandardScaler()\n",
    "X_train_scaled = scaler.fit_transform(X_train)\n",
    "X_test_scaled = scaler.transform(X_test)\n",
    "\n",
    "svm = SVC(kernel='rbf', C=1, gamma='scale')\n",
    "svm.fit(X_train_scaled, y_train)\n",
    "y_pred_svm = svm.predict(X_test_scaled)\n"
   ]
  },
  {
   "cell_type": "markdown",
   "id": "22bf7ad2-d3be-49ec-b446-c5ae44669cf0",
   "metadata": {},
   "source": [
    "### 9. Random Forest (with one channel)"
   ]
  },
  {
   "cell_type": "code",
   "execution_count": 98,
   "id": "901688ef-ee62-4645-85c2-cec90476667b",
   "metadata": {},
   "outputs": [],
   "source": [
    "rf = RandomForestClassifier(n_estimators=200, max_depth=None, random_state=42)\n",
    "rf.fit(X_train, y_train)\n",
    "y_pred_rf = rf.predict(X_test)\n"
   ]
  },
  {
   "cell_type": "markdown",
   "id": "70961309-9b25-4f73-920d-4c65f81ec881",
   "metadata": {},
   "source": [
    "### 10. Evaluation (with one EEG channel and few features)"
   ]
  },
  {
   "cell_type": "code",
   "execution_count": 105,
   "id": "c08912d0-4a22-43cc-bd5a-5a29f9159db6",
   "metadata": {},
   "outputs": [
    {
     "name": "stdout",
     "output_type": "stream",
     "text": [
      "=== SVM Results ===\n",
      "              precision    recall  f1-score   support\n",
      "\n",
      "           0       0.00      0.00      0.00         2\n",
      "           1       0.94      1.00      0.97        29\n",
      "\n",
      "    accuracy                           0.94        31\n",
      "   macro avg       0.47      0.50      0.48        31\n",
      "weighted avg       0.88      0.94      0.90        31\n",
      "\n",
      "Accuracy: 0.9354838709677419\n",
      "\n",
      "=== Random Forest Results ===\n",
      "              precision    recall  f1-score   support\n",
      "\n",
      "           0       0.00      0.00      0.00         2\n",
      "           1       0.93      0.97      0.95        29\n",
      "\n",
      "    accuracy                           0.90        31\n",
      "   macro avg       0.47      0.48      0.47        31\n",
      "weighted avg       0.87      0.90      0.89        31\n",
      "\n",
      "Accuracy: 0.9032258064516129\n"
     ]
    }
   ],
   "source": [
    "print(\"=== SVM Results ===\")\n",
    "print(classification_report(y_test, y_pred_svm, zero_division=0))\n",
    "print(\"Accuracy:\", accuracy_score(y_test, y_pred_svm))\n",
    "\n",
    "print(\"\\n=== Random Forest Results ===\")\n",
    "print(classification_report(y_test, y_pred_rf, zero_division=0))\n",
    "print(\"Accuracy:\", accuracy_score(y_test, y_pred_rf))\n"
   ]
  },
  {
   "cell_type": "markdown",
   "id": "f6b79048-911d-429d-ac4f-0b33639d857b",
   "metadata": {},
   "source": [
    "# =============== k-fold Cross-validation ====================="
   ]
  },
  {
   "cell_type": "markdown",
   "id": "a28de2fa-8407-4bbe-85c6-1d1759f175e5",
   "metadata": {},
   "source": [
    "### 1. Application of k-fold Cross-validation (Random Forest)"
   ]
  },
  {
   "cell_type": "code",
   "execution_count": 109,
   "id": "43def631-d7c8-4389-8934-16e285bac572",
   "metadata": {},
   "outputs": [
    {
     "name": "stdout",
     "output_type": "stream",
     "text": [
      "Cross-validation accuracies: [0.9354838709677419, 0.8709677419354839, 0.967741935483871, 0.8666666666666667, 0.9666666666666667]\n",
      "Mean CV accuracy: 0.921505376344086\n"
     ]
    }
   ],
   "source": [
    "# Flatten EEG data per epoch for simple classifier (n_epochs, features)\n",
    "X_reshaped = X.reshape(X.shape[0], -1)\n",
    "\n",
    "kf = StratifiedKFold(n_splits=5, shuffle=True, random_state=42)\n",
    "clf = RandomForestClassifier(n_estimators=100, random_state=42)\n",
    "\n",
    "scores = []\n",
    "\n",
    "for train_index, test_index in kf.split(X_reshaped, y):\n",
    "    X_train, X_test = X_reshaped[train_index], X_reshaped[test_index]\n",
    "    y_train, y_test = y[train_index], y[test_index]\n",
    "\n",
    "    clf.fit(X_train, y_train)\n",
    "    y_pred = clf.predict(X_test)\n",
    "\n",
    "    acc = accuracy_score(y_test, y_pred)\n",
    "    scores.append(acc)\n",
    "\n",
    "print(\"Cross-validation accuracies:\", scores)\n",
    "print(\"Mean CV accuracy:\", np.mean(scores))"
   ]
  },
  {
   "cell_type": "markdown",
   "id": "0ade1601-bd3a-4e73-ad3b-9435e3c290d5",
   "metadata": {},
   "source": [
    "# =========== Morlet Wavelets and Confusion Matrix ============="
   ]
  },
  {
   "cell_type": "markdown",
   "id": "0b344d3e-afd3-4256-91ed-b62534b6464e",
   "metadata": {},
   "source": [
    "### 2. Compute Features Using Morlet Wavelets"
   ]
  },
  {
   "cell_type": "code",
   "execution_count": 113,
   "id": "37119a23-01dd-4ab5-9859-d4e4c89312a0",
   "metadata": {},
   "outputs": [
    {
     "name": "stdout",
     "output_type": "stream",
     "text": [
      "NOTE: tfr_morlet() is a legacy function. New code should use .compute_tfr(method=\"morlet\").\n"
     ]
    }
   ],
   "source": [
    "# Define frequencies of interest (e.g., typical EEG bands)\n",
    "freqs = np.arange(1, 25, 1)  # 1 Hz to 30 Hz\n",
    "n_cycles = freqs / 2.0        # different n_cycles per frequency\n",
    "\n",
    "# Compute time-frequency representation using complex Morlet wavelets\n",
    "power = mne.time_frequency.tfr_morlet(epochs, freqs=freqs, n_cycles=n_cycles,\n",
    "                                      use_fft=True, return_itc=False,\n",
    "                                      decim=3, average=False)\n",
    "\n",
    "# power.data shape: (n_epochs, n_channels, n_freqs, n_times)\n",
    "# Flatten to features for classifier\n",
    "X_features = power.data.reshape(power.data.shape[0], -1)\n"
   ]
  },
  {
   "cell_type": "markdown",
   "id": "554575dd-3805-4698-87c0-f99eb38bc14f",
   "metadata": {},
   "source": [
    "### 3. Train Classifier Using Morlet Wavelets (Random Forest)"
   ]
  },
  {
   "cell_type": "code",
   "execution_count": 118,
   "id": "a44e43c1-7f04-431b-8170-9dec81f2692a",
   "metadata": {},
   "outputs": [],
   "source": [
    "clf = RandomForestClassifier(n_estimators=100, random_state=42)\n",
    "kf = StratifiedKFold(n_splits=5, shuffle=True, random_state=42)\n",
    "\n",
    "y_true_all = []\n",
    "y_pred_all = []\n",
    "fold_accuracies = []\n",
    "\n",
    "for train_idx, test_idx in kf.split(X, y):\n",
    "    X_train, X_test = X[train_idx], X[test_idx]\n",
    "    y_train, y_test = y[train_idx], y[test_idx]\n",
    "    \n",
    "    clf.fit(X_train, y_train)\n",
    "    y_pred = clf.predict(X_test)\n",
    "    \n",
    "    y_true_all.extend(y_test)\n",
    "    y_pred_all.extend(y_pred)\n",
    "    fold_accuracies.append(accuracy_score(y_test, y_pred))"
   ]
  },
  {
   "cell_type": "markdown",
   "id": "52e35004-cf78-4a5f-ba8e-518863872781",
   "metadata": {},
   "source": [
    "### 4. Compute Confusion Matrix Using Morlet Wavelets"
   ]
  },
  {
   "cell_type": "code",
   "execution_count": 121,
   "id": "2ad864ed-3aa8-42a1-a8b9-11fa91b818a3",
   "metadata": {},
   "outputs": [
    {
     "name": "stdout",
     "output_type": "stream",
     "text": [
      "Confusion matrix:\n",
      " [[  3   9]\n",
      " [  3 138]]\n"
     ]
    },
    {
     "data": {
      "text/plain": [
       "<sklearn.metrics._plot.confusion_matrix.ConfusionMatrixDisplay at 0x156f3c4eea0>"
      ]
     },
     "execution_count": 121,
     "metadata": {},
     "output_type": "execute_result"
    },
    {
     "data": {
      "image/png": "[encoded data removed]",
      "text/plain": [
       "<Figure size 640x480 with 2 Axes>"
      ]
     },
     "metadata": {},
     "output_type": "display_data"
    }
   ],
   "source": [
    "from sklearn.metrics import confusion_matrix, ConfusionMatrixDisplay\n",
    "\n",
    "cm = confusion_matrix(y_true_all, y_pred_all)\n",
    "#cm= confusion_matrix(y_true_all, y_pred_all, normalize='true')\n",
    "print(\"Confusion matrix:\\n\", cm)\n",
    "\n",
    "# Optional: plot it\n",
    "disp = ConfusionMatrixDisplay(confusion_matrix=cm,\n",
    "                              display_labels=np.unique(y))\n",
    "disp.plot(cmap='Greens')\n"
   ]
  },
  {
   "cell_type": "markdown",
   "id": "12cfbe1d-ab8a-4764-8db4-ae8c7514b962",
   "metadata": {},
   "source": [
    "# ========= Complex Morlet Wavelets and Confusion Matrix =========="
   ]
  },
  {
   "cell_type": "markdown",
   "id": "ad28c59d-1818-4b74-a1fb-2a28b89f027b",
   "metadata": {},
   "source": [
    "### 5. Compute Features Using Complex Morlet Wavelets"
   ]
  },
  {
   "cell_type": "code",
   "execution_count": 125,
   "id": "0bf42eed-0909-45f8-8733-55dcb643216e",
   "metadata": {},
   "outputs": [
    {
     "name": "stdout",
     "output_type": "stream",
     "text": [
      "NOTE: tfr_morlet() is a legacy function. New code should use .compute_tfr(method=\"morlet\").\n"
     ]
    },
    {
     "name": "stderr",
     "output_type": "stream",
     "text": [
      "[Parallel(n_jobs=-1)]: Using backend LokyBackend with 8 concurrent workers.\n",
      "[Parallel(n_jobs=-1)]: Done   2 out of   7 | elapsed:    5.9s remaining:   14.9s\n",
      "[Parallel(n_jobs=-1)]: Done   4 out of   7 | elapsed:    6.0s remaining:    4.5s\n",
      "[Parallel(n_jobs=-1)]: Done   7 out of   7 | elapsed:    6.2s finished\n"
     ]
    }
   ],
   "source": [
    "power = mne.time_frequency.tfr_morlet(\n",
    "    epochs,\n",
    "    freqs=freqs,\n",
    "    n_cycles=n_cycles,\n",
    "    return_itc=False,     \n",
    "    average=False,        \n",
    "    decim=3,              \n",
    "    n_jobs=-1             \n",
    ")"
   ]
  },
  {
   "cell_type": "markdown",
   "id": "6ef6e325-61a6-48ff-b742-58a17f5a377a",
   "metadata": {},
   "source": [
    "### 6. Extract Features from Complex Morlet Output"
   ]
  },
  {
   "cell_type": "code",
   "execution_count": 128,
   "id": "8db11338-a0b4-4a7a-bc74-4c7fa5597d1e",
   "metadata": {},
   "outputs": [],
   "source": [
    "# Average power over time → (n_epochs, n_channels, n_freqs)\n",
    "X_power = power.data.mean(axis=-1)\n",
    "\n",
    "# Flatten into feature vectors → (n_epochs, features)\n",
    "X_features = X_power.reshape(X_power.shape[0], -1)\n",
    "\n",
    "# Define bands\n",
    "bands = {\n",
    "    'delta': (1, 4),\n",
    "    'theta': (4, 8),\n",
    "    'alpha': (8, 13),\n",
    "    'beta': (13, 30),\n",
    "}\n",
    "\n",
    "X_band = []\n",
    "for name, (fmin, fmax) in bands.items():\n",
    "    fmask = (freqs >= fmin) & (freqs < fmax)\n",
    "    band_power = power.data[:, :, fmask, :].mean(axis=(2, 3))  # mean over freqs + time\n",
    "    X_band.append(band_power)\n",
    "\n",
    "# Concatenate features from all bands → (n_epochs, n_channels * n_bands)\n",
    "X_band = np.concatenate(X_band, axis=1)   # Now X_band is much smaller (compact features)\n",
    "\n",
    "# Phase Information\n",
    "#phase_data = np.angle(power.data)  # same shape as power.data"
   ]
  },
  {
   "cell_type": "markdown",
   "id": "0b3ea2a9-75f8-4ac4-a10a-2f3f3f0ce348",
   "metadata": {},
   "source": [
    "### 7. Train Classifier Using Complex Morlet Wavelets (Random Forest)"
   ]
  },
  {
   "cell_type": "code",
   "execution_count": 131,
   "id": "4427a764-6d88-4262-870e-1b53007c7c93",
   "metadata": {},
   "outputs": [],
   "source": [
    "clf = RandomForestClassifier(n_estimators=100, random_state=42)\n",
    "\n",
    "kf = StratifiedKFold(n_splits=5, shuffle=True, random_state=42)\n",
    "\n",
    "y_true_all = []\n",
    "y_pred_all = []\n",
    "fold_accuracies = []\n",
    "\n",
    "for train_idx, test_idx in kf.split(X, y):\n",
    "    X_train, X_test = X[train_idx], X[test_idx]\n",
    "    y_train, y_test = y[train_idx], y[test_idx]\n",
    "    \n",
    "    clf.fit(X_train, y_train)\n",
    "    y_pred = clf.predict(X_test)\n",
    "    \n",
    "    y_true_all.extend(y_test)\n",
    "    y_pred_all.extend(y_pred)\n",
    "    fold_accuracies.append(accuracy_score(y_test, y_pred))"
   ]
  },
  {
   "cell_type": "markdown",
   "id": "13d7bdbf-7f02-4051-a42d-aa4a403bb9b3",
   "metadata": {},
   "source": [
    "### 8. Compute Confusion Matrix Using Complex Morlet Wavelets"
   ]
  },
  {
   "cell_type": "code",
   "execution_count": 134,
   "id": "9258f07c-b955-46b0-bc25-4c0cf00c7556",
   "metadata": {},
   "outputs": [
    {
     "name": "stdout",
     "output_type": "stream",
     "text": [
      "Normalized confusion matrix:\n",
      " [[  3   9]\n",
      " [  3 138]]\n"
     ]
    },
    {
     "data": {
      "text/plain": [
       "<sklearn.metrics._plot.confusion_matrix.ConfusionMatrixDisplay at 0x156f3ff43b0>"
      ]
     },
     "execution_count": 134,
     "metadata": {},
     "output_type": "execute_result"
    },
    {
     "data": {
      "image/png": "[encoded data removed]",
      "text/plain": [
       "<Figure size 640x480 with 2 Axes>"
      ]
     },
     "metadata": {},
     "output_type": "display_data"
    }
   ],
   "source": [
    "cm = confusion_matrix(y_true_all, y_pred_all, labels=np.unique(y))\n",
    "#cm = confusion_matrix(y_true_all, y_pred_all, labels=np.unique(y), normalize='true')\n",
    "\n",
    "#print(\"Confusion matrix:\\n\", cm)\n",
    "print(\"Normalized confusion matrix:\\n\", cm)\n",
    "\n",
    "# Plot\n",
    "disp = ConfusionMatrixDisplay(confusion_matrix=cm,\n",
    "                              display_labels=np.unique(y))\n",
    "disp.plot(cmap='Purples', values_format=\".2f\")"
   ]
  },
  {
   "cell_type": "markdown",
   "id": "0583fe55-b799-4d42-ac2e-e4a30a119a44",
   "metadata": {},
   "source": [
    "# =========== Boxplots and Scatterplots ============="
   ]
  },
  {
   "cell_type": "markdown",
   "id": "954f7838-a899-4785-8cc6-1bcdf0840d7a",
   "metadata": {},
   "source": [
    "### 9.Applying Boxplots"
   ]
  },
  {
   "cell_type": "code",
   "execution_count": 138,
   "id": "df1f5d48-8976-4f18-bcdd-a05bf3b02101",
   "metadata": {},
   "outputs": [
    {
     "data": {
      "image/png": "[encoded data removed]",
      "text/plain": [
       "<Figure size 600x400 with 1 Axes>"
      ]
     },
     "metadata": {},
     "output_type": "display_data"
    }
   ],
   "source": [
    "# -----------------------------\n",
    "# Boxplot of CV Accuracies\n",
    "# -----------------------------\n",
    "plt.figure(figsize=(6, 4))\n",
    "sns.boxplot(data=fold_accuracies)\n",
    "sns.swarmplot(data=fold_accuracies, color=\".25\")  # show individual points\n",
    "plt.ylabel(\"Accuracy\")\n",
    "plt.title(\"Cross-Validation Accuracy Distribution\")\n",
    "plt.show()\n"
   ]
  },
  {
   "cell_type": "markdown",
   "id": "95f7c5c9-539a-4305-bb17-bad0b403bf6c",
   "metadata": {},
   "source": [
    "### 10. Applying Scatterplots"
   ]
  },
  {
   "cell_type": "code",
   "execution_count": 141,
   "id": "5593a3a9-725c-4f39-9ddf-a6b2160cd38a",
   "metadata": {},
   "outputs": [
    {
     "data": {
      "image/png": "[encoded data removed]",
      "text/plain": [
       "<Figure size 600x500 with 1 Axes>"
      ]
     },
     "metadata": {},
     "output_type": "display_data"
    }
   ],
   "source": [
    "# -----------------------------\n",
    "# Scatterplot of Features\n",
    "# -----------------------------\n",
    "# Let's take two band-power features for visualization (e.g., delta vs alpha on channel 0)\n",
    "delta_idx = 0\n",
    "alpha_idx = 2\n",
    "\n",
    "plt.figure(figsize=(6, 5))\n",
    "for label in np.unique(y):\n",
    "    mask = np.array(y) == label\n",
    "    plt.scatter(X[mask, delta_idx], X[mask, alpha_idx], alpha=0.5, label=f\"Class {label}\")\n",
    "\n",
    "plt.xlabel(\"Delta Power (1–4 Hz)\")\n",
    "plt.ylabel(\"Alpha Power (8–13 Hz)\")\n",
    "plt.title(\"Scatterplot of Band-Power Features\")\n",
    "plt.legend()\n",
    "plt.show()"
   ]
  },
  {
   "cell_type": "markdown",
   "id": "c909dfb0-3055-4c0c-90be-6e5d3647ff2c",
   "metadata": {},
   "source": [
    "# =========== Spiking Neural Networks (SNN) ==========="
   ]
  },
  {
   "cell_type": "markdown",
   "id": "42e6d370-edb0-4e6d-a561-eb35ee6d9e1a",
   "metadata": {},
   "source": [
    "### 11. Applying SNN"
   ]
  },
  {
   "cell_type": "code",
   "execution_count": 145,
   "id": "e4399079-b74d-47aa-b7af-cf12ac59c0f3",
   "metadata": {},
   "outputs": [
    {
     "name": "stdout",
     "output_type": "stream",
     "text": [
      "Defaulting to user installation because normal site-packages is not writeable\n",
      "Looking in indexes: https://download.pytorch.org/whl/cpu\n",
      "Requirement already satisfied: torch in c:\\users\\admin\\appdata\\roaming\\python\\python312\\site-packages (2.8.0+cpu)\n",
      "Requirement already satisfied: torchvision in c:\\users\\admin\\appdata\\roaming\\python\\python312\\site-packages (0.23.0+cpu)\n",
      "Requirement already satisfied: torchaudio in c:\\users\\admin\\appdata\\roaming\\python\\python312\\site-packages (2.8.0+cpu)\n",
      "Requirement already satisfied: filelock in c:\\programdata\\anaconda3\\lib\\site-packages (from torch) (3.13.1)\n",
      "Requirement already satisfied: typing-extensions>=4.10.0 in c:\\programdata\\anaconda3\\lib\\site-packages (from torch) (4.11.0)\n",
      "Requirement already satisfied: sympy>=1.13.3 in c:\\users\\admin\\appdata\\roaming\\python\\python312\\site-packages (from torch) (1.13.3)\n",
      "Requirement already satisfied: networkx in c:\\programdata\\anaconda3\\lib\\site-packages (from torch) (3.3)\n",
      "Requirement already satisfied: jinja2 in c:\\users\\admin\\appdata\\roaming\\python\\python312\\site-packages (from torch) (3.1.6)\n",
      "Requirement already satisfied: fsspec in c:\\programdata\\anaconda3\\lib\\site-packages (from torch) (2024.6.1)\n",
      "Requirement already satisfied: setuptools in c:\\programdata\\anaconda3\\lib\\site-packages (from torch) (75.1.0)\n",
      "Requirement already satisfied: numpy in c:\\users\\admin\\appdata\\roaming\\python\\python312\\site-packages (from torchvision) (1.26.4)\n",
      "Requirement already satisfied: pillow!=8.3.*,>=5.3.0 in c:\\users\\admin\\appdata\\roaming\\python\\python312\\site-packages (from torchvision) (11.3.0)\n",
      "Requirement already satisfied: mpmath<1.4,>=1.1.0 in c:\\programdata\\anaconda3\\lib\\site-packages (from sympy>=1.13.3->torch) (1.3.0)\n",
      "Requirement already satisfied: MarkupSafe>=2.0 in c:\\users\\admin\\appdata\\roaming\\python\\python312\\site-packages (from jinja2->torch) (3.0.2)\n",
      "Note: you may need to restart the kernel to use updated packages.\n"
     ]
    }
   ],
   "source": [
    "pip install torch torchvision torchaudio --index-url https://download.pytorch.org/whl/cpu"
   ]
  },
  {
   "cell_type": "code",
   "execution_count": 146,
   "id": "3d8e8288-292f-440e-affb-2667febe7301",
   "metadata": {},
   "outputs": [
    {
     "name": "stdout",
     "output_type": "stream",
     "text": [
      "Defaulting to user installation because normal site-packages is not writeable\n",
      "Requirement already satisfied: snntorch in c:\\users\\admin\\appdata\\roaming\\python\\python312\\site-packages (0.9.4)\n",
      "Note: you may need to restart the kernel to use updated packages.\n"
     ]
    }
   ],
   "source": [
    "pip install snntorch"
   ]
  },
  {
   "cell_type": "code",
   "execution_count": 149,
   "id": "9c678099-eb3b-4ec9-a7e3-c98d451237e0",
   "metadata": {},
   "outputs": [
    {
     "name": "stdout",
     "output_type": "stream",
     "text": [
      "Epoch 1/10, Loss: 1.2260\n",
      "Epoch 2/10, Loss: 1.1793\n",
      "Epoch 3/10, Loss: 1.1257\n",
      "Epoch 4/10, Loss: 1.0727\n",
      "Epoch 5/10, Loss: 1.0281\n",
      "Epoch 6/10, Loss: 0.9726\n",
      "Epoch 7/10, Loss: 0.9213\n",
      "Epoch 8/10, Loss: 0.8912\n",
      "Epoch 9/10, Loss: 0.8399\n",
      "Epoch 10/10, Loss: 0.7911\n"
     ]
    },
    {
     "data": {
      "image/png": "[encoded data removed]",
      "text/plain": [
       "<Figure size 640x480 with 2 Axes>"
      ]
     },
     "metadata": {},
     "output_type": "display_data"
    }
   ],
   "source": [
    "import torch\n",
    "import snntorch as snn\n",
    "from snntorch import surrogate\n",
    "import torch.nn as nn\n",
    "import torch.optim as optim\n",
    "import matplotlib.pyplot as plt\n",
    "\n",
    "# --------------------------\n",
    "# 1. Prepare features\n",
    "# --------------------------\n",
    "X = torch.tensor(X, dtype=torch.float32)   # wavelet features\n",
    "y = torch.tensor(y, dtype=torch.long)      # labels\n",
    "\n",
    "# Normalize features\n",
    "scaler = StandardScaler()\n",
    "X = torch.tensor(scaler.fit_transform(X), dtype=torch.float32)\n",
    "\n",
    "X_train, X_test, y_train, y_test = train_test_split(X, y, test_size=0.2, stratify=y, random_state=42)\n",
    "\n",
    "# --------------------------------------------------\n",
    "# 2. Encode features into spike trains (rate coding)\n",
    "# --------------------------------------------------\n",
    "def rate_encode(features, time_steps=50):\n",
    "    # features in [0,1] after scaling\n",
    "    rand = torch.rand((time_steps, *features.shape))\n",
    "    return (rand < features.unsqueeze(0)).float()\n",
    "\n",
    "time_steps = 50\n",
    "X_train_spike = rate_encode(X_train, time_steps)\n",
    "X_test_spike = rate_encode(X_test, time_steps)\n",
    "\n",
    "# --------------------------\n",
    "# 3. Build a simple SNN\n",
    "# --------------------------\n",
    "num_inputs = X.shape[1]\n",
    "num_hidden = 64\n",
    "num_outputs = len(torch.unique(y))\n",
    "\n",
    "beta = 0.9  # membrane leak\n",
    "\n",
    "class SNN(nn.Module):\n",
    "    def __init__(self):\n",
    "        super().__init__()\n",
    "        self.fc1 = nn.Linear(num_inputs, num_hidden)\n",
    "        self.lif1 = snn.Leaky(beta=beta)\n",
    "        self.fc2 = nn.Linear(num_hidden, num_outputs)\n",
    "        self.lif2 = snn.Leaky(beta=beta)\n",
    "\n",
    "    def forward(self, x):\n",
    "        mem1 = self.lif1.init_leaky()\n",
    "        mem2 = self.lif2.init_leaky()\n",
    "\n",
    "        spk2_rec = []\n",
    "        for step in range(x.size(0)):\n",
    "            cur1 = self.fc1(x[step])\n",
    "            spk1, mem1 = self.lif1(cur1, mem1)\n",
    "            cur2 = self.fc2(spk1)\n",
    "            spk2, mem2 = self.lif2(cur2, mem2)\n",
    "            spk2_rec.append(spk2)\n",
    "\n",
    "        return torch.stack(spk2_rec)\n",
    "\n",
    "net = SNN()\n",
    "criterion = nn.CrossEntropyLoss()\n",
    "optimizer = optim.Adam(net.parameters(), lr=1e-3)\n",
    "\n",
    "# --------------------------\n",
    "# 4. Train the SNN\n",
    "# --------------------------\n",
    "num_epochs = 10\n",
    "for epoch in range(num_epochs):\n",
    "    net.train()\n",
    "    optimizer.zero_grad()\n",
    "    spk_out = net(X_train_spike)\n",
    "    out_sum = spk_out.sum(0)                # sum spikes over time\n",
    "    loss = criterion(out_sum, y_train)\n",
    "    loss.backward()\n",
    "    optimizer.step()\n",
    "    print(f\"Epoch {epoch+1}/{num_epochs}, Loss: {loss.item():.4f}\")\n",
    "\n",
    "# --------------------------\n",
    "# 5. Evaluate\n",
    "# --------------------------\n",
    "net.eval()\n",
    "with torch.no_grad():\n",
    "    spk_out = net(X_test_spike)\n",
    "    out_sum = spk_out.sum(0)\n",
    "    y_pred = torch.argmax(out_sum, dim=1)\n",
    "\n",
    "cm = confusion_matrix(y_test, y_pred)\n",
    "disp = ConfusionMatrixDisplay(confusion_matrix=cm)\n",
    "disp.plot(cmap=\"Blues\")\n",
    "plt.title(\"Confusion Matrix - SNN with Wavelet Features\")\n",
    "plt.show()\n"
   ]
  },
  {
   "cell_type": "markdown",
   "id": "278e728a-7e01-476c-a6b7-17645a548e2a",
   "metadata": {},
   "source": [
    "# ======= Extended SNN Evaluation with Boxplots & Scatterplots ====="
   ]
  },
  {
   "cell_type": "code",
   "execution_count": null,
   "id": "519b90ea-1736-4a7f-a926-38017f034d78",
   "metadata": {},
   "outputs": [],
   "source": []
  },
  {
   "cell_type": "code",
   "execution_count": null,
   "id": "8fa96813-26a4-4a7b-8b2a-5a8f0adfd318",
   "metadata": {},
   "outputs": [],
   "source": []
  },
  {
   "cell_type": "code",
   "execution_count": null,
   "id": "bce085bc-dec9-45dd-b3e1-43851397d022",
   "metadata": {},
   "outputs": [],
   "source": []
  },
  {
   "cell_type": "code",
   "execution_count": null,
   "id": "85070b43-dbcf-48ef-b960-86af55015d93",
   "metadata": {},
   "outputs": [],
   "source": []
  },
  {
   "cell_type": "code",
   "execution_count": null,
   "id": "371f85e6-a6e0-497f-ae9e-11131351bc24",
   "metadata": {},
   "outputs": [],
   "source": []
  },
  {
   "cell_type": "code",
   "execution_count": null,
   "id": "79029fe8-89e7-4a23-a8a5-61397f8b1ffd",
   "metadata": {},
   "outputs": [],
   "source": []
  },
  {
   "cell_type": "code",
   "execution_count": null,
   "id": "159cde32-7c39-4b07-849f-b227718a3304",
   "metadata": {},
   "outputs": [],
   "source": []
  },
  {
   "cell_type": "code",
   "execution_count": null,
   "id": "8ffbe654-a8aa-44f6-bf22-1666695ef737",
   "metadata": {},
   "outputs": [],
   "source": []
  },
  {
   "cell_type": "markdown",
   "id": "6de7a6b3-95c8-4707-8eaf-303a439a2e95",
   "metadata": {},
   "source": [
    "# ============= Working with multi-channel =============="
   ]
  },
  {
   "cell_type": "markdown",
   "id": "887b804b-3946-4d30-af18-6bba3aade9e2",
   "metadata": {},
   "source": [
    "### 11. Feature Extraction (with Multi-channel)"
   ]
  },
  {
   "cell_type": "code",
   "execution_count": 63,
   "id": "94713692-80d0-4360-9e5f-cbb8a2564d49",
   "metadata": {},
   "outputs": [],
   "source": [
    "def hjorth_parameters(x):\n",
    "    activity = np.var(x)\n",
    "    diff1 = np.diff(x)\n",
    "    mobility = np.sqrt(np.var(diff1)/activity)\n",
    "    diff2 = np.diff(diff1)\n",
    "    complexity = np.sqrt(np.var(diff2)/np.var(diff1)) / mobility\n",
    "    return activity, mobility, complexity\n",
    "\n",
    "def spectral_entropy(psd):\n",
    "    psd_norm = psd / np.sum(psd)\n",
    "    return -np.sum(psd_norm * np.log2(psd_norm + 1e-12))\n",
    "\n",
    "def multi_extract_features(epoch_data, sfreq):\n",
    "    feats = []\n",
    "    for ch in range(epoch_data.shape[0]):  # Loop over channels\n",
    "        data = epoch_data[ch]\n",
    "        \n",
    "        # Frequency features\n",
    "        f, psd = welch(data, sfreq, nperseg=sfreq*2)\n",
    "        bands = {\"delta\":(0.5,4), \"theta\":(4,8), \"alpha\":(8,12), \"beta\":(12,30)}\n",
    "        band_powers = []\n",
    "        for (low, high) in bands.values():\n",
    "            idx = np.logical_and(f >= low, f <= high)\n",
    "            power = np.mean(psd[idx])\n",
    "            feats.append(power)\n",
    "            band_powers.append(power)\n",
    "        \n",
    "        # Band ratios\n",
    "        feats.append(band_powers[1]/band_powers[2])  # theta/alpha\n",
    "        feats.append(band_powers[0]/band_powers[1])  # delta/theta\n",
    "        \n",
    "        # Spectral entropy\n",
    "        feats.append(spectral_entropy(psd))\n",
    "        \n",
    "        # Time-domain features\n",
    "        feats.append(np.mean(data))\n",
    "        feats.append(np.std(data))\n",
    "        feats.append(skew(data))\n",
    "        feats.append(kurtosis(data))\n",
    "        \n",
    "        # Hjorth parameters\n",
    "        activity, mobility, complexity = hjorth_parameters(data)\n",
    "        feats.extend([activity, mobility, complexity])\n",
    "        \n",
    "    return np.array(feats)"
   ]
  },
  {
   "cell_type": "markdown",
   "id": "a34cfbc9-7a5b-4b47-884f-be6fb0f3ec55",
   "metadata": {},
   "source": [
    "### 12. Compute features for all epochs (with multi-channel)"
   ]
  },
  {
   "cell_type": "code",
   "execution_count": 66,
   "id": "7106811d-acf7-4ef1-a5db-064ba98e36ec",
   "metadata": {},
   "outputs": [],
   "source": [
    "X = []\n",
    "for ep in epochs.get_data():  # ep shape = (n_channels, n_times)\n",
    "    feats = multi_extract_features(ep, epochs.info['sfreq'])\n",
    "    X.append(feats)\n",
    "X = np.vstack(X)"
   ]
  },
  {
   "cell_type": "markdown",
   "id": "c67a52e2-abfa-4102-a1f0-46112a02359a",
   "metadata": {},
   "source": [
    "### 13. Splitting of Train and Test (with multi-channel)"
   ]
  },
  {
   "cell_type": "code",
   "execution_count": 68,
   "id": "8e24f67b-82a6-4c8a-9e68-c44f93385dae",
   "metadata": {},
   "outputs": [],
   "source": [
    "X_train, X_test, y_train, y_test = train_test_split(\n",
    "    X, y, test_size=0.2, stratify=y, random_state=42\n",
    ")"
   ]
  },
  {
   "cell_type": "markdown",
   "id": "ecc24cc8-5391-4f74-bea7-9cb269ae4b06",
   "metadata": {},
   "source": [
    "### 14. Support Vector Machines (with multi-channel)"
   ]
  },
  {
   "cell_type": "code",
   "execution_count": 72,
   "id": "c3707887-03c9-46f7-9237-b63b569db564",
   "metadata": {},
   "outputs": [],
   "source": [
    "scaler = StandardScaler()\n",
    "X_train_scaled = scaler.fit_transform(X_train)\n",
    "X_test_scaled = scaler.transform(X_test)\n",
    "\n",
    "svm = SVC(kernel='rbf', C=1, gamma='scale')\n",
    "svm.fit(X_train_scaled, y_train)\n",
    "y_pred_svm = svm.predict(X_test_scaled)"
   ]
  },
  {
   "cell_type": "markdown",
   "id": "7752b9ab-3569-46b3-a270-203fc7db28fd",
   "metadata": {},
   "source": [
    "### 15. Random Forest (with multi-channel)"
   ]
  },
  {
   "cell_type": "code",
   "execution_count": 75,
   "id": "88490dc9-43ca-43f1-b7f6-de87c3317ebd",
   "metadata": {},
   "outputs": [],
   "source": [
    "rf = RandomForestClassifier(n_estimators=200, max_depth=None, random_state=42)\n",
    "rf.fit(X_train, y_train)\n",
    "y_pred_rf = rf.predict(X_test)"
   ]
  },
  {
   "cell_type": "markdown",
   "id": "d8e02d7f-4529-4669-860e-edacc7353ea3",
   "metadata": {},
   "source": [
    "### 16. Evaluation (with multi-chanenel)"
   ]
  },
  {
   "cell_type": "code",
   "execution_count": 78,
   "id": "579d146b-b3a1-40cd-82c0-9a8cabcd3d78",
   "metadata": {},
   "outputs": [
    {
     "name": "stdout",
     "output_type": "stream",
     "text": [
      "=== SVM Results ===\n",
      "              precision    recall  f1-score   support\n",
      "\n",
      "           0       0.00      0.00      0.00         2\n",
      "           1       0.94      1.00      0.97        29\n",
      "\n",
      "    accuracy                           0.94        31\n",
      "   macro avg       0.47      0.50      0.48        31\n",
      "weighted avg       0.88      0.94      0.90        31\n",
      "\n",
      "Accuracy: 0.9354838709677419\n",
      "\n",
      "=== Random Forest Results ===\n",
      "              precision    recall  f1-score   support\n",
      "\n",
      "           0       1.00      1.00      1.00         2\n",
      "           1       1.00      1.00      1.00        29\n",
      "\n",
      "    accuracy                           1.00        31\n",
      "   macro avg       1.00      1.00      1.00        31\n",
      "weighted avg       1.00      1.00      1.00        31\n",
      "\n",
      "Accuracy: 1.0\n"
     ]
    }
   ],
   "source": [
    "print(\"=== SVM Results ===\")\n",
    "print(classification_report(y_test, y_pred_svm, zero_division=0))\n",
    "print(\"Accuracy:\", accuracy_score(y_test, y_pred_svm))\n",
    "\n",
    "print(\"\\n=== Random Forest Results ===\")\n",
    "print(classification_report(y_test, y_pred_rf, zero_division=0))\n",
    "print(\"Accuracy:\", accuracy_score(y_test, y_pred_rf))"
   ]
  },
  {
   "cell_type": "markdown",
   "id": "0e9c5d91-03f5-4997-a3ab-db01ac2a1dca",
   "metadata": {},
   "source": [
    "# ========= k-fold Cross-validation (with multi-channel) =========="
   ]
  },
  {
   "cell_type": "code",
   "execution_count": null,
   "id": "5c0c4564-f929-42b5-8590-86f7352e038c",
   "metadata": {},
   "outputs": [],
   "source": []
  },
  {
   "cell_type": "code",
   "execution_count": null,
   "id": "f1316d99-4c0a-4332-8d9e-82d53b75956d",
   "metadata": {},
   "outputs": [],
   "source": [
    "\n"
   ]
  },
  {
   "cell_type": "code",
   "execution_count": null,
   "id": "7f6fc56f-48d8-47a9-a82c-509d0e1a7728",
   "metadata": {},
   "outputs": [],
   "source": []
  }
 ],
 "metadata": {
  "kernelspec": {
   "display_name": "Python [conda env:base] *",
   "language": "python",
   "name": "conda-base-py"
  },
  "language_info": {
   "codemirror_mode": {
    "name": "ipython",
    "version": 3
   },
   "file_extension": ".py",
   "mimetype": "text/x-python",
   "name": "python",
   "nbconvert_exporter": "python",
   "pygments_lexer": "ipython3",
   "version": "3.12.7"
  }
 },
 "nbformat": 4,
 "nbformat_minor": 5
}
